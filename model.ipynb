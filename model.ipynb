{
 "cells": [
  {
   "cell_type": "code",
   "execution_count": 2,
   "metadata": {},
   "outputs": [],
   "source": [
    "import numpy as np\n",
    "import pandas as pd\n",
    "\n",
    "dataset=pd.read_csv('House_price.csv')"
   ]
  },
  {
   "cell_type": "code",
   "execution_count": 3,
   "metadata": {},
   "outputs": [
    {
     "data": {
      "text/plain": [
       "(33656, 19)"
      ]
     },
     "execution_count": 3,
     "metadata": {},
     "output_type": "execute_result"
    }
   ],
   "source": [
    "dataset.shape"
   ]
  },
  {
   "cell_type": "code",
   "execution_count": 4,
   "metadata": {},
   "outputs": [
    {
     "data": {
      "text/plain": [
       "ADDRESS                 0\n",
       "SUBURB                  0\n",
       "PRICE                   0\n",
       "BEDROOMS                0\n",
       "BATHROOMS               0\n",
       "GARAGE               2478\n",
       "LAND_AREA               0\n",
       "FLOOR_AREA              0\n",
       "BUILD_YEAR           3155\n",
       "CBD_DIST                0\n",
       "NEAREST_STN             0\n",
       "NEAREST_STN_DIST        0\n",
       "DATE_SOLD               0\n",
       "POSTCODE                0\n",
       "LATITUDE                0\n",
       "LONGITUDE               0\n",
       "NEAREST_SCH             0\n",
       "NEAREST_SCH_DIST        0\n",
       "NEAREST_SCH_RANK    10952\n",
       "dtype: int64"
      ]
     },
     "execution_count": 4,
     "metadata": {},
     "output_type": "execute_result"
    }
   ],
   "source": [
    "dataset.isna().sum()"
   ]
  },
  {
   "cell_type": "code",
   "execution_count": 5,
   "metadata": {},
   "outputs": [],
   "source": [
    "dataset.drop(columns=['ADDRESS','NEAREST_SCH_RANK'],inplace=True)\n",
    "dataset.dropna(subset=['BUILD_YEAR'],inplace=True)\n",
    "dataset.fillna({'GARAGE':dataset['GARAGE'].mode()[0]},inplace=True)"
   ]
  },
  {
   "cell_type": "code",
   "execution_count": 6,
   "metadata": {},
   "outputs": [
    {
     "data": {
      "text/plain": [
       "SUBURB              0\n",
       "PRICE               0\n",
       "BEDROOMS            0\n",
       "BATHROOMS           0\n",
       "GARAGE              0\n",
       "LAND_AREA           0\n",
       "FLOOR_AREA          0\n",
       "BUILD_YEAR          0\n",
       "CBD_DIST            0\n",
       "NEAREST_STN         0\n",
       "NEAREST_STN_DIST    0\n",
       "DATE_SOLD           0\n",
       "POSTCODE            0\n",
       "LATITUDE            0\n",
       "LONGITUDE           0\n",
       "NEAREST_SCH         0\n",
       "NEAREST_SCH_DIST    0\n",
       "dtype: int64"
      ]
     },
     "execution_count": 6,
     "metadata": {},
     "output_type": "execute_result"
    }
   ],
   "source": [
    "dataset.isna().sum()"
   ]
  },
  {
   "cell_type": "code",
   "execution_count": 7,
   "metadata": {},
   "outputs": [
    {
     "data": {
      "text/plain": [
       "Index(['SUBURB', 'BEDROOMS', 'BATHROOMS', 'GARAGE', 'LAND_AREA', 'FLOOR_AREA',\n",
       "       'BUILD_YEAR', 'CBD_DIST', 'NEAREST_STN', 'NEAREST_STN_DIST',\n",
       "       'DATE_SOLD', 'POSTCODE', 'NEAREST_SCH', 'NEAREST_SCH_DIST'],\n",
       "      dtype='object')"
      ]
     },
     "execution_count": 7,
     "metadata": {},
     "output_type": "execute_result"
    }
   ],
   "source": [
    "X=dataset.drop(columns=['PRICE','LATITUDE','LONGITUDE'])\n",
    "X.columns"
   ]
  },
  {
   "cell_type": "code",
   "execution_count": 8,
   "metadata": {},
   "outputs": [
    {
     "data": {
      "text/plain": [
       "0    565000\n",
       "1    365000\n",
       "2    287000\n",
       "3    255000\n",
       "4    325000\n",
       "Name: PRICE, dtype: int64"
      ]
     },
     "execution_count": 8,
     "metadata": {},
     "output_type": "execute_result"
    }
   ],
   "source": [
    "Y=dataset['PRICE']\n",
    "Y.head()"
   ]
  },
  {
   "cell_type": "code",
   "execution_count": 9,
   "metadata": {},
   "outputs": [
    {
     "data": {
      "text/plain": [
       "(30501, 14)"
      ]
     },
     "execution_count": 9,
     "metadata": {},
     "output_type": "execute_result"
    }
   ],
   "source": [
    "X.shape"
   ]
  },
  {
   "cell_type": "code",
   "execution_count": 10,
   "metadata": {},
   "outputs": [
    {
     "data": {
      "text/plain": [
       "(30501,)"
      ]
     },
     "execution_count": 10,
     "metadata": {},
     "output_type": "execute_result"
    }
   ],
   "source": [
    "Y.shape"
   ]
  },
  {
   "cell_type": "code",
   "execution_count": 11,
   "metadata": {},
   "outputs": [
    {
     "data": {
      "text/plain": [
       "SUBURB\n",
       "Bertram          209\n",
       "Iluka            208\n",
       "Mindarie         204\n",
       "Henley Brook     203\n",
       "Jane Brook       199\n",
       "                ... \n",
       "Welshpool          1\n",
       "Kwinana Beach      1\n",
       "Wangara            1\n",
       "Munster            1\n",
       "Naval Base         1\n",
       "Name: count, Length: 319, dtype: int64"
      ]
     },
     "execution_count": 11,
     "metadata": {},
     "output_type": "execute_result"
    }
   ],
   "source": [
    "X.value_counts('SUBURB')"
   ]
  },
  {
   "cell_type": "code",
   "execution_count": 12,
   "metadata": {},
   "outputs": [],
   "source": [
    "X.rename({\"SUBURB\":\"Near_area\"},axis=True,inplace=True)"
   ]
  },
  {
   "cell_type": "code",
   "execution_count": 13,
   "metadata": {},
   "outputs": [],
   "source": [
    "X['Age']=2025-X['BUILD_YEAR']\n",
    "X['No_of_rooms']=X['BATHROOMS']+X['BEDROOMS']\n",
    "\n",
    "X.drop(columns=['BUILD_YEAR','BATHROOMS','BEDROOMS'],inplace=True)"
   ]
  },
  {
   "cell_type": "code",
   "execution_count": 14,
   "metadata": {},
   "outputs": [],
   "source": [
    "from sklearn.preprocessing import LabelEncoder\n",
    "lab=LabelEncoder()\n",
    "col=['Near_area','NEAREST_STN','NEAREST_SCH']\n",
    "for i in col:\n",
    "    X[i]=lab.fit_transform(X[i])"
   ]
  },
  {
   "cell_type": "code",
   "execution_count": 15,
   "metadata": {},
   "outputs": [
    {
     "data": {
      "text/html": [
       "<div>\n",
       "<style scoped>\n",
       "    .dataframe tbody tr th:only-of-type {\n",
       "        vertical-align: middle;\n",
       "    }\n",
       "\n",
       "    .dataframe tbody tr th {\n",
       "        vertical-align: top;\n",
       "    }\n",
       "\n",
       "    .dataframe thead th {\n",
       "        text-align: right;\n",
       "    }\n",
       "</style>\n",
       "<table border=\"1\" class=\"dataframe\">\n",
       "  <thead>\n",
       "    <tr style=\"text-align: right;\">\n",
       "      <th></th>\n",
       "      <th>Near_area</th>\n",
       "      <th>GARAGE</th>\n",
       "      <th>LAND_AREA</th>\n",
       "      <th>FLOOR_AREA</th>\n",
       "      <th>CBD_DIST</th>\n",
       "      <th>NEAREST_STN</th>\n",
       "      <th>NEAREST_STN_DIST</th>\n",
       "      <th>DATE_SOLD</th>\n",
       "      <th>POSTCODE</th>\n",
       "      <th>NEAREST_SCH</th>\n",
       "      <th>NEAREST_SCH_DIST</th>\n",
       "      <th>Age</th>\n",
       "      <th>No_of_rooms</th>\n",
       "    </tr>\n",
       "  </thead>\n",
       "  <tbody>\n",
       "    <tr>\n",
       "      <th>0</th>\n",
       "      <td>266</td>\n",
       "      <td>2.0</td>\n",
       "      <td>600</td>\n",
       "      <td>160</td>\n",
       "      <td>18300</td>\n",
       "      <td>17</td>\n",
       "      <td>1800</td>\n",
       "      <td>09-2018\\r</td>\n",
       "      <td>6164</td>\n",
       "      <td>81</td>\n",
       "      <td>0.828339</td>\n",
       "      <td>22.0</td>\n",
       "      <td>6</td>\n",
       "    </tr>\n",
       "    <tr>\n",
       "      <th>1</th>\n",
       "      <td>289</td>\n",
       "      <td>2.0</td>\n",
       "      <td>351</td>\n",
       "      <td>139</td>\n",
       "      <td>26900</td>\n",
       "      <td>35</td>\n",
       "      <td>4900</td>\n",
       "      <td>02-2019\\r</td>\n",
       "      <td>6167</td>\n",
       "      <td>8</td>\n",
       "      <td>5.524324</td>\n",
       "      <td>12.0</td>\n",
       "      <td>5</td>\n",
       "    </tr>\n",
       "    <tr>\n",
       "      <th>2</th>\n",
       "      <td>53</td>\n",
       "      <td>1.0</td>\n",
       "      <td>719</td>\n",
       "      <td>86</td>\n",
       "      <td>22600</td>\n",
       "      <td>12</td>\n",
       "      <td>1900</td>\n",
       "      <td>06-2015\\r</td>\n",
       "      <td>6111</td>\n",
       "      <td>73</td>\n",
       "      <td>1.649178</td>\n",
       "      <td>46.0</td>\n",
       "      <td>4</td>\n",
       "    </tr>\n",
       "    <tr>\n",
       "      <th>3</th>\n",
       "      <td>32</td>\n",
       "      <td>2.0</td>\n",
       "      <td>651</td>\n",
       "      <td>59</td>\n",
       "      <td>17900</td>\n",
       "      <td>43</td>\n",
       "      <td>3600</td>\n",
       "      <td>07-2018\\r</td>\n",
       "      <td>6056</td>\n",
       "      <td>144</td>\n",
       "      <td>1.571401</td>\n",
       "      <td>72.0</td>\n",
       "      <td>3</td>\n",
       "    </tr>\n",
       "    <tr>\n",
       "      <th>4</th>\n",
       "      <td>175</td>\n",
       "      <td>2.0</td>\n",
       "      <td>466</td>\n",
       "      <td>131</td>\n",
       "      <td>11200</td>\n",
       "      <td>2</td>\n",
       "      <td>2000</td>\n",
       "      <td>11-2016\\r</td>\n",
       "      <td>6054</td>\n",
       "      <td>76</td>\n",
       "      <td>1.514922</td>\n",
       "      <td>27.0</td>\n",
       "      <td>5</td>\n",
       "    </tr>\n",
       "  </tbody>\n",
       "</table>\n",
       "</div>"
      ],
      "text/plain": [
       "   Near_area  GARAGE  LAND_AREA  FLOOR_AREA  CBD_DIST  NEAREST_STN  \\\n",
       "0        266     2.0        600         160     18300           17   \n",
       "1        289     2.0        351         139     26900           35   \n",
       "2         53     1.0        719          86     22600           12   \n",
       "3         32     2.0        651          59     17900           43   \n",
       "4        175     2.0        466         131     11200            2   \n",
       "\n",
       "   NEAREST_STN_DIST  DATE_SOLD  POSTCODE  NEAREST_SCH  NEAREST_SCH_DIST   Age  \\\n",
       "0              1800  09-2018\\r      6164           81          0.828339  22.0   \n",
       "1              4900  02-2019\\r      6167            8          5.524324  12.0   \n",
       "2              1900  06-2015\\r      6111           73          1.649178  46.0   \n",
       "3              3600  07-2018\\r      6056          144          1.571401  72.0   \n",
       "4              2000  11-2016\\r      6054           76          1.514922  27.0   \n",
       "\n",
       "   No_of_rooms  \n",
       "0            6  \n",
       "1            5  \n",
       "2            4  \n",
       "3            3  \n",
       "4            5  "
      ]
     },
     "execution_count": 15,
     "metadata": {},
     "output_type": "execute_result"
    }
   ],
   "source": [
    "X.head()"
   ]
  },
  {
   "cell_type": "code",
   "execution_count": 16,
   "metadata": {},
   "outputs": [
    {
     "name": "stderr",
     "output_type": "stream",
     "text": [
      "C:\\Users\\vishn\\AppData\\Local\\Temp\\ipykernel_24788\\3579711164.py:1: UserWarning: Could not infer format, so each element will be parsed individually, falling back to `dateutil`. To ensure parsing is consistent and as-expected, please specify a format.\n",
      "  X['DATE_SOLD']=pd.to_datetime(X['DATE_SOLD'])\n"
     ]
    }
   ],
   "source": [
    "X['DATE_SOLD']=pd.to_datetime(X['DATE_SOLD'])"
   ]
  },
  {
   "cell_type": "code",
   "execution_count": 17,
   "metadata": {},
   "outputs": [],
   "source": [
    "X['Sold_Year']=X['DATE_SOLD'].dt.year\n",
    "X['Sold_Month']=X['DATE_SOLD'].dt.month\n",
    "X.drop(columns=['DATE_SOLD'],inplace=True)"
   ]
  },
  {
   "cell_type": "code",
   "execution_count": 18,
   "metadata": {},
   "outputs": [
    {
     "data": {
      "text/html": [
       "<div>\n",
       "<style scoped>\n",
       "    .dataframe tbody tr th:only-of-type {\n",
       "        vertical-align: middle;\n",
       "    }\n",
       "\n",
       "    .dataframe tbody tr th {\n",
       "        vertical-align: top;\n",
       "    }\n",
       "\n",
       "    .dataframe thead th {\n",
       "        text-align: right;\n",
       "    }\n",
       "</style>\n",
       "<table border=\"1\" class=\"dataframe\">\n",
       "  <thead>\n",
       "    <tr style=\"text-align: right;\">\n",
       "      <th></th>\n",
       "      <th>Near_area</th>\n",
       "      <th>GARAGE</th>\n",
       "      <th>LAND_AREA</th>\n",
       "      <th>FLOOR_AREA</th>\n",
       "      <th>CBD_DIST</th>\n",
       "      <th>NEAREST_STN</th>\n",
       "      <th>NEAREST_STN_DIST</th>\n",
       "      <th>POSTCODE</th>\n",
       "      <th>NEAREST_SCH</th>\n",
       "      <th>NEAREST_SCH_DIST</th>\n",
       "      <th>Age</th>\n",
       "      <th>No_of_rooms</th>\n",
       "      <th>Sold_Year</th>\n",
       "      <th>Sold_Month</th>\n",
       "    </tr>\n",
       "  </thead>\n",
       "  <tbody>\n",
       "    <tr>\n",
       "      <th>0</th>\n",
       "      <td>266</td>\n",
       "      <td>2.0</td>\n",
       "      <td>600</td>\n",
       "      <td>160</td>\n",
       "      <td>18300</td>\n",
       "      <td>17</td>\n",
       "      <td>1800</td>\n",
       "      <td>6164</td>\n",
       "      <td>81</td>\n",
       "      <td>0.828339</td>\n",
       "      <td>22.0</td>\n",
       "      <td>6</td>\n",
       "      <td>2018</td>\n",
       "      <td>9</td>\n",
       "    </tr>\n",
       "    <tr>\n",
       "      <th>1</th>\n",
       "      <td>289</td>\n",
       "      <td>2.0</td>\n",
       "      <td>351</td>\n",
       "      <td>139</td>\n",
       "      <td>26900</td>\n",
       "      <td>35</td>\n",
       "      <td>4900</td>\n",
       "      <td>6167</td>\n",
       "      <td>8</td>\n",
       "      <td>5.524324</td>\n",
       "      <td>12.0</td>\n",
       "      <td>5</td>\n",
       "      <td>2019</td>\n",
       "      <td>2</td>\n",
       "    </tr>\n",
       "    <tr>\n",
       "      <th>2</th>\n",
       "      <td>53</td>\n",
       "      <td>1.0</td>\n",
       "      <td>719</td>\n",
       "      <td>86</td>\n",
       "      <td>22600</td>\n",
       "      <td>12</td>\n",
       "      <td>1900</td>\n",
       "      <td>6111</td>\n",
       "      <td>73</td>\n",
       "      <td>1.649178</td>\n",
       "      <td>46.0</td>\n",
       "      <td>4</td>\n",
       "      <td>2015</td>\n",
       "      <td>6</td>\n",
       "    </tr>\n",
       "    <tr>\n",
       "      <th>3</th>\n",
       "      <td>32</td>\n",
       "      <td>2.0</td>\n",
       "      <td>651</td>\n",
       "      <td>59</td>\n",
       "      <td>17900</td>\n",
       "      <td>43</td>\n",
       "      <td>3600</td>\n",
       "      <td>6056</td>\n",
       "      <td>144</td>\n",
       "      <td>1.571401</td>\n",
       "      <td>72.0</td>\n",
       "      <td>3</td>\n",
       "      <td>2018</td>\n",
       "      <td>7</td>\n",
       "    </tr>\n",
       "    <tr>\n",
       "      <th>4</th>\n",
       "      <td>175</td>\n",
       "      <td>2.0</td>\n",
       "      <td>466</td>\n",
       "      <td>131</td>\n",
       "      <td>11200</td>\n",
       "      <td>2</td>\n",
       "      <td>2000</td>\n",
       "      <td>6054</td>\n",
       "      <td>76</td>\n",
       "      <td>1.514922</td>\n",
       "      <td>27.0</td>\n",
       "      <td>5</td>\n",
       "      <td>2016</td>\n",
       "      <td>11</td>\n",
       "    </tr>\n",
       "  </tbody>\n",
       "</table>\n",
       "</div>"
      ],
      "text/plain": [
       "   Near_area  GARAGE  LAND_AREA  FLOOR_AREA  CBD_DIST  NEAREST_STN  \\\n",
       "0        266     2.0        600         160     18300           17   \n",
       "1        289     2.0        351         139     26900           35   \n",
       "2         53     1.0        719          86     22600           12   \n",
       "3         32     2.0        651          59     17900           43   \n",
       "4        175     2.0        466         131     11200            2   \n",
       "\n",
       "   NEAREST_STN_DIST  POSTCODE  NEAREST_SCH  NEAREST_SCH_DIST   Age  \\\n",
       "0              1800      6164           81          0.828339  22.0   \n",
       "1              4900      6167            8          5.524324  12.0   \n",
       "2              1900      6111           73          1.649178  46.0   \n",
       "3              3600      6056          144          1.571401  72.0   \n",
       "4              2000      6054           76          1.514922  27.0   \n",
       "\n",
       "   No_of_rooms  Sold_Year  Sold_Month  \n",
       "0            6       2018           9  \n",
       "1            5       2019           2  \n",
       "2            4       2015           6  \n",
       "3            3       2018           7  \n",
       "4            5       2016          11  "
      ]
     },
     "execution_count": 18,
     "metadata": {},
     "output_type": "execute_result"
    }
   ],
   "source": [
    "X.head()"
   ]
  },
  {
   "cell_type": "code",
   "execution_count": 19,
   "metadata": {},
   "outputs": [
    {
     "name": "stdout",
     "output_type": "stream",
     "text": [
      "<class 'pandas.core.frame.DataFrame'>\n",
      "Index: 30501 entries, 0 to 33654\n",
      "Data columns (total 14 columns):\n",
      " #   Column            Non-Null Count  Dtype  \n",
      "---  ------            --------------  -----  \n",
      " 0   Near_area         30501 non-null  int32  \n",
      " 1   GARAGE            30501 non-null  float64\n",
      " 2   LAND_AREA         30501 non-null  int64  \n",
      " 3   FLOOR_AREA        30501 non-null  int64  \n",
      " 4   CBD_DIST          30501 non-null  int64  \n",
      " 5   NEAREST_STN       30501 non-null  int32  \n",
      " 6   NEAREST_STN_DIST  30501 non-null  int64  \n",
      " 7   POSTCODE          30501 non-null  int64  \n",
      " 8   NEAREST_SCH       30501 non-null  int32  \n",
      " 9   NEAREST_SCH_DIST  30501 non-null  float64\n",
      " 10  Age               30501 non-null  float64\n",
      " 11  No_of_rooms       30501 non-null  int64  \n",
      " 12  Sold_Year         30501 non-null  int32  \n",
      " 13  Sold_Month        30501 non-null  int32  \n",
      "dtypes: float64(3), int32(5), int64(6)\n",
      "memory usage: 2.9 MB\n"
     ]
    }
   ],
   "source": [
    "X.info()"
   ]
  },
  {
   "cell_type": "code",
   "execution_count": 20,
   "metadata": {},
   "outputs": [],
   "source": [
    "X['Age']=X['Age'].astype('int')\n",
    "X['GARAGE']=X['GARAGE'].astype('int')"
   ]
  },
  {
   "cell_type": "code",
   "execution_count": 21,
   "metadata": {},
   "outputs": [],
   "source": [
    "\n",
    "data=X.merge(Y,left_index=True,right_index=True)"
   ]
  },
  {
   "cell_type": "code",
   "execution_count": 22,
   "metadata": {},
   "outputs": [
    {
     "data": {
      "text/html": [
       "<div>\n",
       "<style scoped>\n",
       "    .dataframe tbody tr th:only-of-type {\n",
       "        vertical-align: middle;\n",
       "    }\n",
       "\n",
       "    .dataframe tbody tr th {\n",
       "        vertical-align: top;\n",
       "    }\n",
       "\n",
       "    .dataframe thead th {\n",
       "        text-align: right;\n",
       "    }\n",
       "</style>\n",
       "<table border=\"1\" class=\"dataframe\">\n",
       "  <thead>\n",
       "    <tr style=\"text-align: right;\">\n",
       "      <th></th>\n",
       "      <th>Near_area</th>\n",
       "      <th>GARAGE</th>\n",
       "      <th>LAND_AREA</th>\n",
       "      <th>FLOOR_AREA</th>\n",
       "      <th>CBD_DIST</th>\n",
       "      <th>NEAREST_STN</th>\n",
       "      <th>NEAREST_STN_DIST</th>\n",
       "      <th>POSTCODE</th>\n",
       "      <th>NEAREST_SCH</th>\n",
       "      <th>NEAREST_SCH_DIST</th>\n",
       "      <th>Age</th>\n",
       "      <th>No_of_rooms</th>\n",
       "      <th>Sold_Year</th>\n",
       "      <th>Sold_Month</th>\n",
       "      <th>PRICE</th>\n",
       "    </tr>\n",
       "  </thead>\n",
       "  <tbody>\n",
       "    <tr>\n",
       "      <th>0</th>\n",
       "      <td>266</td>\n",
       "      <td>2</td>\n",
       "      <td>600</td>\n",
       "      <td>160</td>\n",
       "      <td>18300</td>\n",
       "      <td>17</td>\n",
       "      <td>1800</td>\n",
       "      <td>6164</td>\n",
       "      <td>81</td>\n",
       "      <td>0.828339</td>\n",
       "      <td>22</td>\n",
       "      <td>6</td>\n",
       "      <td>2018</td>\n",
       "      <td>9</td>\n",
       "      <td>565000</td>\n",
       "    </tr>\n",
       "    <tr>\n",
       "      <th>1</th>\n",
       "      <td>289</td>\n",
       "      <td>2</td>\n",
       "      <td>351</td>\n",
       "      <td>139</td>\n",
       "      <td>26900</td>\n",
       "      <td>35</td>\n",
       "      <td>4900</td>\n",
       "      <td>6167</td>\n",
       "      <td>8</td>\n",
       "      <td>5.524324</td>\n",
       "      <td>12</td>\n",
       "      <td>5</td>\n",
       "      <td>2019</td>\n",
       "      <td>2</td>\n",
       "      <td>365000</td>\n",
       "    </tr>\n",
       "    <tr>\n",
       "      <th>2</th>\n",
       "      <td>53</td>\n",
       "      <td>1</td>\n",
       "      <td>719</td>\n",
       "      <td>86</td>\n",
       "      <td>22600</td>\n",
       "      <td>12</td>\n",
       "      <td>1900</td>\n",
       "      <td>6111</td>\n",
       "      <td>73</td>\n",
       "      <td>1.649178</td>\n",
       "      <td>46</td>\n",
       "      <td>4</td>\n",
       "      <td>2015</td>\n",
       "      <td>6</td>\n",
       "      <td>287000</td>\n",
       "    </tr>\n",
       "    <tr>\n",
       "      <th>3</th>\n",
       "      <td>32</td>\n",
       "      <td>2</td>\n",
       "      <td>651</td>\n",
       "      <td>59</td>\n",
       "      <td>17900</td>\n",
       "      <td>43</td>\n",
       "      <td>3600</td>\n",
       "      <td>6056</td>\n",
       "      <td>144</td>\n",
       "      <td>1.571401</td>\n",
       "      <td>72</td>\n",
       "      <td>3</td>\n",
       "      <td>2018</td>\n",
       "      <td>7</td>\n",
       "      <td>255000</td>\n",
       "    </tr>\n",
       "    <tr>\n",
       "      <th>4</th>\n",
       "      <td>175</td>\n",
       "      <td>2</td>\n",
       "      <td>466</td>\n",
       "      <td>131</td>\n",
       "      <td>11200</td>\n",
       "      <td>2</td>\n",
       "      <td>2000</td>\n",
       "      <td>6054</td>\n",
       "      <td>76</td>\n",
       "      <td>1.514922</td>\n",
       "      <td>27</td>\n",
       "      <td>5</td>\n",
       "      <td>2016</td>\n",
       "      <td>11</td>\n",
       "      <td>325000</td>\n",
       "    </tr>\n",
       "  </tbody>\n",
       "</table>\n",
       "</div>"
      ],
      "text/plain": [
       "   Near_area  GARAGE  LAND_AREA  FLOOR_AREA  CBD_DIST  NEAREST_STN  \\\n",
       "0        266       2        600         160     18300           17   \n",
       "1        289       2        351         139     26900           35   \n",
       "2         53       1        719          86     22600           12   \n",
       "3         32       2        651          59     17900           43   \n",
       "4        175       2        466         131     11200            2   \n",
       "\n",
       "   NEAREST_STN_DIST  POSTCODE  NEAREST_SCH  NEAREST_SCH_DIST  Age  \\\n",
       "0              1800      6164           81          0.828339   22   \n",
       "1              4900      6167            8          5.524324   12   \n",
       "2              1900      6111           73          1.649178   46   \n",
       "3              3600      6056          144          1.571401   72   \n",
       "4              2000      6054           76          1.514922   27   \n",
       "\n",
       "   No_of_rooms  Sold_Year  Sold_Month   PRICE  \n",
       "0            6       2018           9  565000  \n",
       "1            5       2019           2  365000  \n",
       "2            4       2015           6  287000  \n",
       "3            3       2018           7  255000  \n",
       "4            5       2016          11  325000  "
      ]
     },
     "execution_count": 22,
     "metadata": {},
     "output_type": "execute_result"
    }
   ],
   "source": [
    "data.head()"
   ]
  },
  {
   "cell_type": "code",
   "execution_count": 23,
   "metadata": {},
   "outputs": [
    {
     "data": {
      "text/plain": [
       "<Axes: >"
      ]
     },
     "execution_count": 23,
     "metadata": {},
     "output_type": "execute_result"
    },
    {
     "data": {
      "image/png": "[encoded data removed]",
      "text/plain": [
       "<Figure size 1500x900 with 2 Axes>"
      ]
     },
     "metadata": {},
     "output_type": "display_data"
    }
   ],
   "source": [
    "import matplotlib.pyplot as plt\n",
    "import seaborn as sns\n",
    "plt.figure(figsize=(15,9))\n",
    "sns.heatmap(data.corr(),annot=True)"
   ]
  },
  {
   "cell_type": "code",
   "execution_count": 24,
   "metadata": {},
   "outputs": [
    {
     "data": {
      "text/plain": [
       "Index(['Near_area', 'GARAGE', 'LAND_AREA', 'FLOOR_AREA', 'CBD_DIST',\n",
       "       'NEAREST_STN', 'NEAREST_STN_DIST', 'POSTCODE', 'NEAREST_SCH',\n",
       "       'NEAREST_SCH_DIST', 'Age', 'No_of_rooms', 'Sold_Year', 'Sold_Month'],\n",
       "      dtype='object')"
      ]
     },
     "execution_count": 24,
     "metadata": {},
     "output_type": "execute_result"
    }
   ],
   "source": [
    "X.columns"
   ]
  },
  {
   "cell_type": "code",
   "execution_count": 25,
   "metadata": {},
   "outputs": [],
   "source": [
    "X.drop(columns=['Near_area','NEAREST_STN'],inplace=True)"
   ]
  },
  {
   "cell_type": "code",
   "execution_count": 26,
   "metadata": {},
   "outputs": [],
   "source": [
    "from sklearn.model_selection import train_test_split\n",
    "x_train,x_test,y_train,y_test=train_test_split(X,Y,test_size=0.2,random_state=10)"
   ]
  },
  {
   "cell_type": "code",
   "execution_count": 27,
   "metadata": {},
   "outputs": [
    {
     "data": {
      "text/html": [
       "<div>\n",
       "<style scoped>\n",
       "    .dataframe tbody tr th:only-of-type {\n",
       "        vertical-align: middle;\n",
       "    }\n",
       "\n",
       "    .dataframe tbody tr th {\n",
       "        vertical-align: top;\n",
       "    }\n",
       "\n",
       "    .dataframe thead th {\n",
       "        text-align: right;\n",
       "    }\n",
       "</style>\n",
       "<table border=\"1\" class=\"dataframe\">\n",
       "  <thead>\n",
       "    <tr style=\"text-align: right;\">\n",
       "      <th></th>\n",
       "      <th>GARAGE</th>\n",
       "      <th>LAND_AREA</th>\n",
       "      <th>FLOOR_AREA</th>\n",
       "      <th>CBD_DIST</th>\n",
       "      <th>NEAREST_STN_DIST</th>\n",
       "      <th>POSTCODE</th>\n",
       "      <th>NEAREST_SCH</th>\n",
       "      <th>NEAREST_SCH_DIST</th>\n",
       "      <th>Age</th>\n",
       "      <th>No_of_rooms</th>\n",
       "      <th>Sold_Year</th>\n",
       "      <th>Sold_Month</th>\n",
       "    </tr>\n",
       "  </thead>\n",
       "  <tbody>\n",
       "    <tr>\n",
       "      <th>13996</th>\n",
       "      <td>2</td>\n",
       "      <td>826</td>\n",
       "      <td>450</td>\n",
       "      <td>17900</td>\n",
       "      <td>3400</td>\n",
       "      <td>6020</td>\n",
       "      <td>119</td>\n",
       "      <td>0.558675</td>\n",
       "      <td>32</td>\n",
       "      <td>8</td>\n",
       "      <td>2018</td>\n",
       "      <td>6</td>\n",
       "    </tr>\n",
       "    <tr>\n",
       "      <th>20221</th>\n",
       "      <td>2</td>\n",
       "      <td>726</td>\n",
       "      <td>228</td>\n",
       "      <td>25700</td>\n",
       "      <td>3100</td>\n",
       "      <td>6027</td>\n",
       "      <td>111</td>\n",
       "      <td>0.954126</td>\n",
       "      <td>29</td>\n",
       "      <td>6</td>\n",
       "      <td>2019</td>\n",
       "      <td>5</td>\n",
       "    </tr>\n",
       "    <tr>\n",
       "      <th>3873</th>\n",
       "      <td>2</td>\n",
       "      <td>624</td>\n",
       "      <td>260</td>\n",
       "      <td>17100</td>\n",
       "      <td>7200</td>\n",
       "      <td>6065</td>\n",
       "      <td>82</td>\n",
       "      <td>1.264057</td>\n",
       "      <td>20</td>\n",
       "      <td>7</td>\n",
       "      <td>2019</td>\n",
       "      <td>5</td>\n",
       "    </tr>\n",
       "    <tr>\n",
       "      <th>32306</th>\n",
       "      <td>2</td>\n",
       "      <td>929</td>\n",
       "      <td>301</td>\n",
       "      <td>11300</td>\n",
       "      <td>3100</td>\n",
       "      <td>6150</td>\n",
       "      <td>92</td>\n",
       "      <td>1.461142</td>\n",
       "      <td>37</td>\n",
       "      <td>6</td>\n",
       "      <td>2018</td>\n",
       "      <td>12</td>\n",
       "    </tr>\n",
       "    <tr>\n",
       "      <th>22717</th>\n",
       "      <td>1</td>\n",
       "      <td>810</td>\n",
       "      <td>127</td>\n",
       "      <td>32000</td>\n",
       "      <td>3100</td>\n",
       "      <td>6167</td>\n",
       "      <td>51</td>\n",
       "      <td>0.520332</td>\n",
       "      <td>65</td>\n",
       "      <td>4</td>\n",
       "      <td>2017</td>\n",
       "      <td>2</td>\n",
       "    </tr>\n",
       "  </tbody>\n",
       "</table>\n",
       "</div>"
      ],
      "text/plain": [
       "       GARAGE  LAND_AREA  FLOOR_AREA  CBD_DIST  NEAREST_STN_DIST  POSTCODE  \\\n",
       "13996       2        826         450     17900              3400      6020   \n",
       "20221       2        726         228     25700              3100      6027   \n",
       "3873        2        624         260     17100              7200      6065   \n",
       "32306       2        929         301     11300              3100      6150   \n",
       "22717       1        810         127     32000              3100      6167   \n",
       "\n",
       "       NEAREST_SCH  NEAREST_SCH_DIST  Age  No_of_rooms  Sold_Year  Sold_Month  \n",
       "13996          119          0.558675   32            8       2018           6  \n",
       "20221          111          0.954126   29            6       2019           5  \n",
       "3873            82          1.264057   20            7       2019           5  \n",
       "32306           92          1.461142   37            6       2018          12  \n",
       "22717           51          0.520332   65            4       2017           2  "
      ]
     },
     "execution_count": 27,
     "metadata": {},
     "output_type": "execute_result"
    }
   ],
   "source": [
    "x_train.head()"
   ]
  },
  {
   "cell_type": "code",
   "execution_count": 28,
   "metadata": {},
   "outputs": [
    {
     "data": {
      "text/plain": [
       "(24400, 12)"
      ]
     },
     "execution_count": 28,
     "metadata": {},
     "output_type": "execute_result"
    }
   ],
   "source": [
    "x_train.shape"
   ]
  },
  {
   "cell_type": "code",
   "execution_count": 29,
   "metadata": {},
   "outputs": [
    {
     "data": {
      "text/plain": [
       "(24400,)"
      ]
     },
     "execution_count": 29,
     "metadata": {},
     "output_type": "execute_result"
    }
   ],
   "source": [
    "y_train.shape"
   ]
  },
  {
   "cell_type": "code",
   "execution_count": 30,
   "metadata": {},
   "outputs": [
    {
     "data": {
      "text/plain": [
       "(6101, 12)"
      ]
     },
     "execution_count": 30,
     "metadata": {},
     "output_type": "execute_result"
    }
   ],
   "source": [
    "x_test.shape"
   ]
  },
  {
   "cell_type": "code",
   "execution_count": 31,
   "metadata": {},
   "outputs": [
    {
     "data": {
      "text/plain": [
       "(6101,)"
      ]
     },
     "execution_count": 31,
     "metadata": {},
     "output_type": "execute_result"
    }
   ],
   "source": [
    "y_test.shape"
   ]
  },
  {
   "cell_type": "code",
   "execution_count": 32,
   "metadata": {},
   "outputs": [],
   "source": [
    "x_train.reset_index(drop=True,inplace=True)\n",
    "x_test.reset_index(drop=True,inplace=True)"
   ]
  },
  {
   "cell_type": "code",
   "execution_count": 33,
   "metadata": {},
   "outputs": [
    {
     "data": {
      "text/html": [
       "<div>\n",
       "<style scoped>\n",
       "    .dataframe tbody tr th:only-of-type {\n",
       "        vertical-align: middle;\n",
       "    }\n",
       "\n",
       "    .dataframe tbody tr th {\n",
       "        vertical-align: top;\n",
       "    }\n",
       "\n",
       "    .dataframe thead th {\n",
       "        text-align: right;\n",
       "    }\n",
       "</style>\n",
       "<table border=\"1\" class=\"dataframe\">\n",
       "  <thead>\n",
       "    <tr style=\"text-align: right;\">\n",
       "      <th></th>\n",
       "      <th>GARAGE</th>\n",
       "      <th>LAND_AREA</th>\n",
       "      <th>FLOOR_AREA</th>\n",
       "      <th>CBD_DIST</th>\n",
       "      <th>NEAREST_STN_DIST</th>\n",
       "      <th>POSTCODE</th>\n",
       "      <th>NEAREST_SCH</th>\n",
       "      <th>NEAREST_SCH_DIST</th>\n",
       "      <th>Age</th>\n",
       "      <th>No_of_rooms</th>\n",
       "      <th>Sold_Year</th>\n",
       "      <th>Sold_Month</th>\n",
       "    </tr>\n",
       "  </thead>\n",
       "  <tbody>\n",
       "    <tr>\n",
       "      <th>0</th>\n",
       "      <td>2</td>\n",
       "      <td>826</td>\n",
       "      <td>450</td>\n",
       "      <td>17900</td>\n",
       "      <td>3400</td>\n",
       "      <td>6020</td>\n",
       "      <td>119</td>\n",
       "      <td>0.558675</td>\n",
       "      <td>32</td>\n",
       "      <td>8</td>\n",
       "      <td>2018</td>\n",
       "      <td>6</td>\n",
       "    </tr>\n",
       "    <tr>\n",
       "      <th>1</th>\n",
       "      <td>2</td>\n",
       "      <td>726</td>\n",
       "      <td>228</td>\n",
       "      <td>25700</td>\n",
       "      <td>3100</td>\n",
       "      <td>6027</td>\n",
       "      <td>111</td>\n",
       "      <td>0.954126</td>\n",
       "      <td>29</td>\n",
       "      <td>6</td>\n",
       "      <td>2019</td>\n",
       "      <td>5</td>\n",
       "    </tr>\n",
       "    <tr>\n",
       "      <th>2</th>\n",
       "      <td>2</td>\n",
       "      <td>624</td>\n",
       "      <td>260</td>\n",
       "      <td>17100</td>\n",
       "      <td>7200</td>\n",
       "      <td>6065</td>\n",
       "      <td>82</td>\n",
       "      <td>1.264057</td>\n",
       "      <td>20</td>\n",
       "      <td>7</td>\n",
       "      <td>2019</td>\n",
       "      <td>5</td>\n",
       "    </tr>\n",
       "    <tr>\n",
       "      <th>3</th>\n",
       "      <td>2</td>\n",
       "      <td>929</td>\n",
       "      <td>301</td>\n",
       "      <td>11300</td>\n",
       "      <td>3100</td>\n",
       "      <td>6150</td>\n",
       "      <td>92</td>\n",
       "      <td>1.461142</td>\n",
       "      <td>37</td>\n",
       "      <td>6</td>\n",
       "      <td>2018</td>\n",
       "      <td>12</td>\n",
       "    </tr>\n",
       "    <tr>\n",
       "      <th>4</th>\n",
       "      <td>1</td>\n",
       "      <td>810</td>\n",
       "      <td>127</td>\n",
       "      <td>32000</td>\n",
       "      <td>3100</td>\n",
       "      <td>6167</td>\n",
       "      <td>51</td>\n",
       "      <td>0.520332</td>\n",
       "      <td>65</td>\n",
       "      <td>4</td>\n",
       "      <td>2017</td>\n",
       "      <td>2</td>\n",
       "    </tr>\n",
       "  </tbody>\n",
       "</table>\n",
       "</div>"
      ],
      "text/plain": [
       "   GARAGE  LAND_AREA  FLOOR_AREA  CBD_DIST  NEAREST_STN_DIST  POSTCODE  \\\n",
       "0       2        826         450     17900              3400      6020   \n",
       "1       2        726         228     25700              3100      6027   \n",
       "2       2        624         260     17100              7200      6065   \n",
       "3       2        929         301     11300              3100      6150   \n",
       "4       1        810         127     32000              3100      6167   \n",
       "\n",
       "   NEAREST_SCH  NEAREST_SCH_DIST  Age  No_of_rooms  Sold_Year  Sold_Month  \n",
       "0          119          0.558675   32            8       2018           6  \n",
       "1          111          0.954126   29            6       2019           5  \n",
       "2           82          1.264057   20            7       2019           5  \n",
       "3           92          1.461142   37            6       2018          12  \n",
       "4           51          0.520332   65            4       2017           2  "
      ]
     },
     "execution_count": 33,
     "metadata": {},
     "output_type": "execute_result"
    }
   ],
   "source": [
    "x_train.head()"
   ]
  },
  {
   "cell_type": "code",
   "execution_count": 34,
   "metadata": {},
   "outputs": [
    {
     "data": {
      "text/html": [
       "<div>\n",
       "<style scoped>\n",
       "    .dataframe tbody tr th:only-of-type {\n",
       "        vertical-align: middle;\n",
       "    }\n",
       "\n",
       "    .dataframe tbody tr th {\n",
       "        vertical-align: top;\n",
       "    }\n",
       "\n",
       "    .dataframe thead th {\n",
       "        text-align: right;\n",
       "    }\n",
       "</style>\n",
       "<table border=\"1\" class=\"dataframe\">\n",
       "  <thead>\n",
       "    <tr style=\"text-align: right;\">\n",
       "      <th></th>\n",
       "      <th>GARAGE</th>\n",
       "      <th>LAND_AREA</th>\n",
       "      <th>FLOOR_AREA</th>\n",
       "      <th>CBD_DIST</th>\n",
       "      <th>NEAREST_STN_DIST</th>\n",
       "      <th>POSTCODE</th>\n",
       "      <th>NEAREST_SCH</th>\n",
       "      <th>NEAREST_SCH_DIST</th>\n",
       "      <th>Age</th>\n",
       "      <th>No_of_rooms</th>\n",
       "      <th>Sold_Year</th>\n",
       "      <th>Sold_Month</th>\n",
       "    </tr>\n",
       "  </thead>\n",
       "  <tbody>\n",
       "    <tr>\n",
       "      <th>0</th>\n",
       "      <td>2</td>\n",
       "      <td>872</td>\n",
       "      <td>143</td>\n",
       "      <td>38200</td>\n",
       "      <td>510</td>\n",
       "      <td>6168</td>\n",
       "      <td>78</td>\n",
       "      <td>1.132209</td>\n",
       "      <td>51</td>\n",
       "      <td>4</td>\n",
       "      <td>2014</td>\n",
       "      <td>9</td>\n",
       "    </tr>\n",
       "    <tr>\n",
       "      <th>1</th>\n",
       "      <td>2</td>\n",
       "      <td>732</td>\n",
       "      <td>108</td>\n",
       "      <td>13900</td>\n",
       "      <td>7200</td>\n",
       "      <td>6064</td>\n",
       "      <td>82</td>\n",
       "      <td>2.297276</td>\n",
       "      <td>37</td>\n",
       "      <td>6</td>\n",
       "      <td>2016</td>\n",
       "      <td>7</td>\n",
       "    </tr>\n",
       "    <tr>\n",
       "      <th>2</th>\n",
       "      <td>2</td>\n",
       "      <td>662</td>\n",
       "      <td>187</td>\n",
       "      <td>26100</td>\n",
       "      <td>1300</td>\n",
       "      <td>6028</td>\n",
       "      <td>80</td>\n",
       "      <td>1.069190</td>\n",
       "      <td>30</td>\n",
       "      <td>6</td>\n",
       "      <td>2018</td>\n",
       "      <td>6</td>\n",
       "    </tr>\n",
       "    <tr>\n",
       "      <th>3</th>\n",
       "      <td>2</td>\n",
       "      <td>781</td>\n",
       "      <td>143</td>\n",
       "      <td>12000</td>\n",
       "      <td>1800</td>\n",
       "      <td>6022</td>\n",
       "      <td>154</td>\n",
       "      <td>1.414861</td>\n",
       "      <td>48</td>\n",
       "      <td>5</td>\n",
       "      <td>2016</td>\n",
       "      <td>5</td>\n",
       "    </tr>\n",
       "    <tr>\n",
       "      <th>4</th>\n",
       "      <td>2</td>\n",
       "      <td>412</td>\n",
       "      <td>150</td>\n",
       "      <td>26200</td>\n",
       "      <td>2400</td>\n",
       "      <td>6112</td>\n",
       "      <td>38</td>\n",
       "      <td>1.003240</td>\n",
       "      <td>10</td>\n",
       "      <td>4</td>\n",
       "      <td>2013</td>\n",
       "      <td>8</td>\n",
       "    </tr>\n",
       "  </tbody>\n",
       "</table>\n",
       "</div>"
      ],
      "text/plain": [
       "   GARAGE  LAND_AREA  FLOOR_AREA  CBD_DIST  NEAREST_STN_DIST  POSTCODE  \\\n",
       "0       2        872         143     38200               510      6168   \n",
       "1       2        732         108     13900              7200      6064   \n",
       "2       2        662         187     26100              1300      6028   \n",
       "3       2        781         143     12000              1800      6022   \n",
       "4       2        412         150     26200              2400      6112   \n",
       "\n",
       "   NEAREST_SCH  NEAREST_SCH_DIST  Age  No_of_rooms  Sold_Year  Sold_Month  \n",
       "0           78          1.132209   51            4       2014           9  \n",
       "1           82          2.297276   37            6       2016           7  \n",
       "2           80          1.069190   30            6       2018           6  \n",
       "3          154          1.414861   48            5       2016           5  \n",
       "4           38          1.003240   10            4       2013           8  "
      ]
     },
     "execution_count": 34,
     "metadata": {},
     "output_type": "execute_result"
    }
   ],
   "source": [
    "x_test.head()"
   ]
  },
  {
   "cell_type": "code",
   "execution_count": 35,
   "metadata": {},
   "outputs": [],
   "source": [
    "from sklearn.preprocessing import StandardScaler\n",
    "std=StandardScaler()\n",
    "column_names=['LAND_AREA','FLOOR_AREA','CBD_DIST','NEAREST_STN_DIST','NEAREST_SCH','NEAREST_SCH_DIST']\n",
    "x_train[column_names] = std.fit_transform(x_train[column_names])\n",
    "x_test[column_names] = std.transform(x_test[column_names])"
   ]
  },
  {
   "cell_type": "code",
   "execution_count": 36,
   "metadata": {},
   "outputs": [
    {
     "data": {
      "text/html": [
       "<div>\n",
       "<style scoped>\n",
       "    .dataframe tbody tr th:only-of-type {\n",
       "        vertical-align: middle;\n",
       "    }\n",
       "\n",
       "    .dataframe tbody tr th {\n",
       "        vertical-align: top;\n",
       "    }\n",
       "\n",
       "    .dataframe thead th {\n",
       "        text-align: right;\n",
       "    }\n",
       "</style>\n",
       "<table border=\"1\" class=\"dataframe\">\n",
       "  <thead>\n",
       "    <tr style=\"text-align: right;\">\n",
       "      <th></th>\n",
       "      <th>GARAGE</th>\n",
       "      <th>LAND_AREA</th>\n",
       "      <th>FLOOR_AREA</th>\n",
       "      <th>CBD_DIST</th>\n",
       "      <th>NEAREST_STN_DIST</th>\n",
       "      <th>POSTCODE</th>\n",
       "      <th>NEAREST_SCH</th>\n",
       "      <th>NEAREST_SCH_DIST</th>\n",
       "      <th>Age</th>\n",
       "      <th>No_of_rooms</th>\n",
       "      <th>Sold_Year</th>\n",
       "      <th>Sold_Month</th>\n",
       "    </tr>\n",
       "  </thead>\n",
       "  <tbody>\n",
       "    <tr>\n",
       "      <th>0</th>\n",
       "      <td>2</td>\n",
       "      <td>-0.111378</td>\n",
       "      <td>3.693346</td>\n",
       "      <td>-0.154092</td>\n",
       "      <td>-0.243040</td>\n",
       "      <td>6020</td>\n",
       "      <td>0.871430</td>\n",
       "      <td>-0.725243</td>\n",
       "      <td>32</td>\n",
       "      <td>8</td>\n",
       "      <td>2018</td>\n",
       "      <td>6</td>\n",
       "    </tr>\n",
       "    <tr>\n",
       "      <th>1</th>\n",
       "      <td>2</td>\n",
       "      <td>-0.117394</td>\n",
       "      <td>0.618790</td>\n",
       "      <td>0.537704</td>\n",
       "      <td>-0.310982</td>\n",
       "      <td>6027</td>\n",
       "      <td>0.705460</td>\n",
       "      <td>-0.492085</td>\n",
       "      <td>29</td>\n",
       "      <td>6</td>\n",
       "      <td>2019</td>\n",
       "      <td>5</td>\n",
       "    </tr>\n",
       "    <tr>\n",
       "      <th>2</th>\n",
       "      <td>2</td>\n",
       "      <td>-0.123530</td>\n",
       "      <td>1.061969</td>\n",
       "      <td>-0.225046</td>\n",
       "      <td>0.617555</td>\n",
       "      <td>6065</td>\n",
       "      <td>0.103817</td>\n",
       "      <td>-0.309351</td>\n",
       "      <td>20</td>\n",
       "      <td>7</td>\n",
       "      <td>2019</td>\n",
       "      <td>5</td>\n",
       "    </tr>\n",
       "    <tr>\n",
       "      <th>3</th>\n",
       "      <td>2</td>\n",
       "      <td>-0.105182</td>\n",
       "      <td>1.629793</td>\n",
       "      <td>-0.739458</td>\n",
       "      <td>-0.310982</td>\n",
       "      <td>6150</td>\n",
       "      <td>0.311280</td>\n",
       "      <td>-0.193150</td>\n",
       "      <td>37</td>\n",
       "      <td>6</td>\n",
       "      <td>2018</td>\n",
       "      <td>12</td>\n",
       "    </tr>\n",
       "    <tr>\n",
       "      <th>4</th>\n",
       "      <td>1</td>\n",
       "      <td>-0.112341</td>\n",
       "      <td>-0.779994</td>\n",
       "      <td>1.096463</td>\n",
       "      <td>-0.310982</td>\n",
       "      <td>6167</td>\n",
       "      <td>-0.539318</td>\n",
       "      <td>-0.747850</td>\n",
       "      <td>65</td>\n",
       "      <td>4</td>\n",
       "      <td>2017</td>\n",
       "      <td>2</td>\n",
       "    </tr>\n",
       "  </tbody>\n",
       "</table>\n",
       "</div>"
      ],
      "text/plain": [
       "   GARAGE  LAND_AREA  FLOOR_AREA  CBD_DIST  NEAREST_STN_DIST  POSTCODE  \\\n",
       "0       2  -0.111378    3.693346 -0.154092         -0.243040      6020   \n",
       "1       2  -0.117394    0.618790  0.537704         -0.310982      6027   \n",
       "2       2  -0.123530    1.061969 -0.225046          0.617555      6065   \n",
       "3       2  -0.105182    1.629793 -0.739458         -0.310982      6150   \n",
       "4       1  -0.112341   -0.779994  1.096463         -0.310982      6167   \n",
       "\n",
       "   NEAREST_SCH  NEAREST_SCH_DIST  Age  No_of_rooms  Sold_Year  Sold_Month  \n",
       "0     0.871430         -0.725243   32            8       2018           6  \n",
       "1     0.705460         -0.492085   29            6       2019           5  \n",
       "2     0.103817         -0.309351   20            7       2019           5  \n",
       "3     0.311280         -0.193150   37            6       2018          12  \n",
       "4    -0.539318         -0.747850   65            4       2017           2  "
      ]
     },
     "execution_count": 36,
     "metadata": {},
     "output_type": "execute_result"
    }
   ],
   "source": [
    "x_train.head()"
   ]
  },
  {
   "cell_type": "markdown",
   "metadata": {},
   "source": [
    "# Model selection"
   ]
  },
  {
   "cell_type": "code",
   "execution_count": 37,
   "metadata": {},
   "outputs": [],
   "source": [
    "from sklearn.tree import DecisionTreeRegressor\n",
    "from sklearn.ensemble import RandomForestRegressor\n",
    "from xgboost import XGBRegressor\n",
    "from sklearn.metrics import r2_score,mean_absolute_error,mean_squared_error"
   ]
  },
  {
   "cell_type": "code",
   "execution_count": 38,
   "metadata": {},
   "outputs": [],
   "source": [
    "models=[DecisionTreeRegressor,RandomForestRegressor,XGBRegressor]\n",
    "validate=[]\n",
    "for i in models:\n",
    "    le=i()\n",
    "    le.fit(x_train,y_train)\n",
    "    y_pred=le.predict(x_train)\n",
    "    a=r2_score(y_train,y_pred)\n",
    "    b=mean_absolute_error(y_train,y_pred)\n",
    "    c=mean_squared_error(y_train,y_pred)\n",
    "    d=np.sqrt(c)\n",
    "    validate.append([i.__name__,a,b,c,d])\n",
    "data_train=pd.DataFrame(validate,columns=['Model','R2_Squre','MAE','MSE','SMSE'])"
   ]
  },
  {
   "cell_type": "code",
   "execution_count": 39,
   "metadata": {},
   "outputs": [
    {
     "data": {
      "text/html": [
       "<div>\n",
       "<style scoped>\n",
       "    .dataframe tbody tr th:only-of-type {\n",
       "        vertical-align: middle;\n",
       "    }\n",
       "\n",
       "    .dataframe tbody tr th {\n",
       "        vertical-align: top;\n",
       "    }\n",
       "\n",
       "    .dataframe thead th {\n",
       "        text-align: right;\n",
       "    }\n",
       "</style>\n",
       "<table border=\"1\" class=\"dataframe\">\n",
       "  <thead>\n",
       "    <tr style=\"text-align: right;\">\n",
       "      <th></th>\n",
       "      <th>Model</th>\n",
       "      <th>R2_Squre</th>\n",
       "      <th>MAE</th>\n",
       "      <th>MSE</th>\n",
       "      <th>SMSE</th>\n",
       "    </tr>\n",
       "  </thead>\n",
       "  <tbody>\n",
       "    <tr>\n",
       "      <th>0</th>\n",
       "      <td>DecisionTreeRegressor</td>\n",
       "      <td>1.000000</td>\n",
       "      <td>0.000000</td>\n",
       "      <td>0.000000e+00</td>\n",
       "      <td>0.000000</td>\n",
       "    </tr>\n",
       "    <tr>\n",
       "      <th>1</th>\n",
       "      <td>RandomForestRegressor</td>\n",
       "      <td>0.976911</td>\n",
       "      <td>32449.522155</td>\n",
       "      <td>2.961730e+09</td>\n",
       "      <td>54421.775454</td>\n",
       "    </tr>\n",
       "    <tr>\n",
       "      <th>2</th>\n",
       "      <td>XGBRegressor</td>\n",
       "      <td>0.939583</td>\n",
       "      <td>59978.832000</td>\n",
       "      <td>7.750139e+09</td>\n",
       "      <td>88034.872673</td>\n",
       "    </tr>\n",
       "  </tbody>\n",
       "</table>\n",
       "</div>"
      ],
      "text/plain": [
       "                   Model  R2_Squre           MAE           MSE          SMSE\n",
       "0  DecisionTreeRegressor  1.000000      0.000000  0.000000e+00      0.000000\n",
       "1  RandomForestRegressor  0.976911  32449.522155  2.961730e+09  54421.775454\n",
       "2           XGBRegressor  0.939583  59978.832000  7.750139e+09  88034.872673"
      ]
     },
     "execution_count": 39,
     "metadata": {},
     "output_type": "execute_result"
    }
   ],
   "source": [
    "data_train"
   ]
  },
  {
   "cell_type": "code",
   "execution_count": 40,
   "metadata": {},
   "outputs": [],
   "source": [
    "models=[DecisionTreeRegressor,RandomForestRegressor,XGBRegressor]\n",
    "validate=[]\n",
    "for i in models:\n",
    "    le=i()\n",
    "    le.fit(x_train,y_train)\n",
    "    y_pred=le.predict(x_test)\n",
    "    a=r2_score(y_test,y_pred)\n",
    "    b=mean_absolute_error(y_test,y_pred)\n",
    "    c=mean_squared_error(y_test,y_pred)\n",
    "    d=np.sqrt(c)\n",
    "    validate.append([i.__name__,a,b,c,d])\n",
    "data_test=pd.DataFrame(validate,columns=['Model','R2_Squre','MAE','MSE','SMSE'])"
   ]
  },
  {
   "cell_type": "code",
   "execution_count": 41,
   "metadata": {},
   "outputs": [
    {
     "data": {
      "text/html": [
       "<div>\n",
       "<style scoped>\n",
       "    .dataframe tbody tr th:only-of-type {\n",
       "        vertical-align: middle;\n",
       "    }\n",
       "\n",
       "    .dataframe tbody tr th {\n",
       "        vertical-align: top;\n",
       "    }\n",
       "\n",
       "    .dataframe thead th {\n",
       "        text-align: right;\n",
       "    }\n",
       "</style>\n",
       "<table border=\"1\" class=\"dataframe\">\n",
       "  <thead>\n",
       "    <tr style=\"text-align: right;\">\n",
       "      <th></th>\n",
       "      <th>Model</th>\n",
       "      <th>R2_Squre</th>\n",
       "      <th>MAE</th>\n",
       "      <th>MSE</th>\n",
       "      <th>SMSE</th>\n",
       "    </tr>\n",
       "  </thead>\n",
       "  <tbody>\n",
       "    <tr>\n",
       "      <th>0</th>\n",
       "      <td>DecisionTreeRegressor</td>\n",
       "      <td>0.657314</td>\n",
       "      <td>124340.817735</td>\n",
       "      <td>4.280477e+10</td>\n",
       "      <td>206893.130468</td>\n",
       "    </tr>\n",
       "    <tr>\n",
       "      <th>1</th>\n",
       "      <td>RandomForestRegressor</td>\n",
       "      <td>0.840718</td>\n",
       "      <td>86638.811991</td>\n",
       "      <td>1.989579e+10</td>\n",
       "      <td>141052.453328</td>\n",
       "    </tr>\n",
       "    <tr>\n",
       "      <th>2</th>\n",
       "      <td>XGBRegressor</td>\n",
       "      <td>0.851992</td>\n",
       "      <td>84350.289010</td>\n",
       "      <td>1.848755e+10</td>\n",
       "      <td>135968.924813</td>\n",
       "    </tr>\n",
       "  </tbody>\n",
       "</table>\n",
       "</div>"
      ],
      "text/plain": [
       "                   Model  R2_Squre            MAE           MSE           SMSE\n",
       "0  DecisionTreeRegressor  0.657314  124340.817735  4.280477e+10  206893.130468\n",
       "1  RandomForestRegressor  0.840718   86638.811991  1.989579e+10  141052.453328\n",
       "2           XGBRegressor  0.851992   84350.289010  1.848755e+10  135968.924813"
      ]
     },
     "execution_count": 41,
     "metadata": {},
     "output_type": "execute_result"
    }
   ],
   "source": [
    "data_test"
   ]
  },
  {
   "cell_type": "code",
   "execution_count": 42,
   "metadata": {},
   "outputs": [
    {
     "name": "stdout",
     "output_type": "stream",
     "text": [
      "0.8519924283027649\n"
     ]
    }
   ],
   "source": [
    "model=XGBRegressor()\n",
    "model.fit(x_train,y_train)\n",
    "y_pred=model.predict(x_test)\n",
    "\n",
    "print(r2_score(y_test,y_pred))"
   ]
  },
  {
   "cell_type": "code",
   "execution_count": 43,
   "metadata": {},
   "outputs": [],
   "source": [
    "import pickle\n",
    "\n",
    "with open('model.pkl','wb') as file:\n",
    "    pickle.dump(model,file)"
   ]
  },
  {
   "cell_type": "code",
   "execution_count": 44,
   "metadata": {},
   "outputs": [],
   "source": [
    "with open('label_encoder.pkl','wb') as file:\n",
    "    pickle.dump(lab,file)"
   ]
  },
  {
   "cell_type": "code",
   "execution_count": 45,
   "metadata": {},
   "outputs": [],
   "source": [
    "with open('stand_scler.pkl','wb') as file:\n",
    "    pickle.dump(std,file)"
   ]
  }
 ],
 "metadata": {
  "kernelspec": {
   "display_name": "Python 3",
   "language": "python",
   "name": "python3"
  },
  "language_info": {
   "codemirror_mode": {
    "name": "ipython",
    "version": 3
   },
   "file_extension": ".py",
   "mimetype": "text/x-python",
   "name": "python",
   "nbconvert_exporter": "python",
   "pygments_lexer": "ipython3",
   "version": "3.11.4"
  }
 },
 "nbformat": 4,
 "nbformat_minor": 2
}
